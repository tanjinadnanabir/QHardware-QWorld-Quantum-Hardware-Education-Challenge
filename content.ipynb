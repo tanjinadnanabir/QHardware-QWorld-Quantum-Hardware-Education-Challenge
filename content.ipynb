{
 "cells": [
  {
   "cell_type": "markdown",
   "metadata": {},
   "source": [
    "<h1 align=\"center\" style=\"color: #A9A9A9;\"> Contents </h1>"
   ]
  },
  {
   "cell_type": "markdown",
   "metadata": {},
   "source": [
    "### Installation and Test\n",
    "\n",
    "To Start with QHardware, please check the following notebooks for installing necessary libraries and checking your system.\n",
    "\n",
    "[Qiskit installation](installation/qiskit_installation.ipynb) "
   ]
  },
  {
   "cell_type": "markdown",
   "metadata": {},
   "source": [
    "### Python Intro Notebook\n",
    "\n",
    "[Intro to Python](qhardware/intro_to_python.ipynb)"
   ]
  },
  {
   "cell_type": "markdown",
   "metadata": {},
   "source": [
    "### Introduction to Quantum Computing\n",
    "\n",
    "\n",
    "[Introduction to Quantum Computing](lectures/Introduction_to_Quantum_Computing.pdf)&nbsp;\n",
    "\n",
    "[Basics of complex numbers](silver/C01_Complex_Number_Basics.ipynb) &nbsp;\n",
    "\n",
    "\n"
   ]
  },
  {
   "cell_type": "markdown",
   "metadata": {},
   "source": [
    "### Introduction to Quantum Hardware\n",
    "\n",
    "[Introduction to Quantum Hardware](silver/C05_Global_And_Local_Phase.ipynb)&nbsp;\n",
    "\n",
    "[Bloch sphere](silver/C07_Bloch_Sphere.ipynb)\n",
    " "
   ]
  },
  {
   "cell_type": "markdown",
   "metadata": {},
   "source": [
    " ### Introduction to Superconducting Qubits\n",
    "\n",
    "[Introduction to Superconducting Qubits](silver/C04_Quantum_Gates_With_Complex_Numbers.ipynb)&nbsp;"
   ]
  },
  {
   "cell_type": "markdown",
   "metadata": {},
   "source": [
    "### Superconducting Quantum Computer Design\n",
    "\n",
    "\n",
    "[Superconducting Quantum Computer Design](silver/D00_Cirq_Introduction.ipynb)&nbsp;"
   ]
  },
  {
   "cell_type": "markdown",
   "metadata": {},
   "source": [
    "### Superconducting QC Design with Qiskit Metal\n",
    "\n",
    "[Superconducting QC Design with Qiskit Metal](silver/D05_Shors_Algorithm.ipynb)&nbsp;\n",
    "\n",
    "[Shor's Algorithm in more detail](silver/D06_Shors_Algorithm_In_More_Detail.ipynb)&nbsp;"
   ]
  },
  {
   "cell_type": "markdown",
   "metadata": {},
   "source": [
    "<hr>"
   ]
  }
 ],
 "metadata": {
  "kernelspec": {
   "display_name": "Python 3 (ipykernel)",
   "language": "python",
   "name": "python3"
  },
  "language_info": {
   "codemirror_mode": {
    "name": "ipython",
    "version": 3
   },
   "file_extension": ".py",
   "mimetype": "text/x-python",
   "name": "python",
   "nbconvert_exporter": "python",
   "pygments_lexer": "ipython3",
   "version": "3.9.7"
  }
 },
 "nbformat": 4,
 "nbformat_minor": 2
}
