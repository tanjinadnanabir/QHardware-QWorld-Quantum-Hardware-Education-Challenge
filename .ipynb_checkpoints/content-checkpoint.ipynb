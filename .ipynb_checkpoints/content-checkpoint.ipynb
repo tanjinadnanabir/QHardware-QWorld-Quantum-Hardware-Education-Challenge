{
 "cells": [
  {
   "cell_type": "markdown",
   "metadata": {},
   "source": [
    "<h1 align=\"center\" style=\"color: #A9A9A9;\"> Contents </h1>"
   ]
  },
  {
   "cell_type": "markdown",
   "metadata": {},
   "source": [
    "### Installation and Test\n",
    "\n",
    "To Start with QHardware, please check the following notebooks for installing necessary libraries and checking your system.\n",
    "\n",
    "[Qiskit, QuTiP installation and test](test/Qiskit_QuTiP_installation_and_test.ipynb) \n",
    "\n",
    "[Cirq installation and test](test/Cirq_installation_and_test.ipynb) "
   ]
  },
  {
   "cell_type": "markdown",
   "metadata": {},
   "source": [
    "### Reference notebooks\n",
    "\n",
    "[Python Reference](silver/R01_Python_Reference.ipynb) &nbsp;|&nbsp;\n",
    "[Python: Drawing](silver/R02_Python_Drawing.ipynb) \n",
    "<hr>"
   ]
  },
  {
   "cell_type": "markdown",
   "metadata": {},
   "source": [
    "### Introduction to Complex Numbers\n",
    "\n",
    "\n",
    "[Introduction to Qiskit](silver/A00_Qiskit_Introduction.ipynb)&nbsp;\n",
    "\n",
    "[Basics of complex numbers](silver/C01_Complex_Number_Basics.ipynb) &nbsp;|&nbsp;\n",
    "[Quantum states with complex numbers](silver/C02_Quantum_States_With_Complex_Numbers.ipynb) &nbsp;|&nbsp;\n",
    "[Mathematical notations](silver/C02_Mathematical_Notations.ipynb)\n",
    "\n",
    "[Quantum operators with complex numbers](silver/C03_Quantum_Operators_With_Complex_Numbers.ipynb)\n",
    "\n",
    "\n"
   ]
  },
  {
   "cell_type": "markdown",
   "metadata": {},
   "source": [
    "### Bloch Sphere\n",
    "\n",
    "[Global and local phase](silver/C05_Global_And_Local_Phase.ipynb) &nbsp;|&nbsp;\n",
    "[State representation conversion and visualization](silver/C06_State_Conversion_And_Visualization.ipynb) &nbsp;|&nbsp;\n",
    "[Bloch sphere](silver/C07_Bloch_Sphere.ipynb)\n",
    " "
   ]
  },
  {
   "cell_type": "markdown",
   "metadata": {},
   "source": [
    " ### Operations with Complex Numbers\n",
    "\n",
    "[Quantum gates with complex numbers](silver/C04_Quantum_Gates_With_Complex_Numbers.ipynb)&nbsp;|&nbsp; \n",
    "[Operations on Bloch sphere](silver/C08_Operations_On_Bloch_Sphere.ipynb)&nbsp;|&nbsp; \n",
    "[Multiqubit operations](silver/C09_Multiqubit_Operations.ipynb)"
   ]
  },
  {
   "cell_type": "markdown",
   "metadata": {},
   "source": [
    "### Quantum Fourier Transform and its Applications\n",
    "\n",
    "\n",
    "[Introduction to Cirq](silver/D00_Cirq_Introduction.ipynb)&nbsp;\n",
    "\n",
    "[Discrete Fourier Transform](silver/D01_Discrete_Fourier_Transform.ipynb)&nbsp;|\n",
    "[Quantum Fourier Transform](silver/D02_Quantum_Fourier_Transform.ipynb)\n",
    "\n",
    "[Phase Estimation](silver/D03_Phase_Estimation.ipynb)&nbsp;|&nbsp;\n",
    "[Order Finding Algorithm](silver/D04_Order_Finding_Algorithm.ipynb)"
   ]
  },
  {
   "cell_type": "markdown",
   "metadata": {},
   "source": [
    "### Shor's Algorithm\n",
    "\n",
    "[Shor's Algorithm](silver/D05_Shors_Algorithm.ipynb)&nbsp;|&nbsp;\n",
    "[Shor's Algorithm in more detail](silver/D06_Shors_Algorithm_In_More_Detail.ipynb)&nbsp;"
   ]
  },
  {
   "cell_type": "markdown",
   "metadata": {},
   "source": [
    "<hr>"
   ]
  },
  {
   "cell_type": "markdown",
   "metadata": {},
   "source": [
    "[References](silver/S01_References.ipynb)"
   ]
  }
 ],
 "metadata": {
  "kernelspec": {
   "display_name": "Python 3 (ipykernel)",
   "language": "python",
   "name": "python3"
  },
  "language_info": {
   "codemirror_mode": {
    "name": "ipython",
    "version": 3
   },
   "file_extension": ".py",
   "mimetype": "text/x-python",
   "name": "python",
   "nbconvert_exporter": "python",
   "pygments_lexer": "ipython3",
   "version": "3.9.7"
  }
 },
 "nbformat": 4,
 "nbformat_minor": 2
}
